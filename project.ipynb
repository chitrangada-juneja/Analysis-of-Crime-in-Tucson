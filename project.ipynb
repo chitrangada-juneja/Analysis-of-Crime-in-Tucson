{
  "cells": [
    {
      "cell_type": "code",
      "execution_count": 1,
      "metadata": {
        "id": "9svzo-xEaaKg"
      },
      "outputs": [],
      "source": [
        "# necessary imports\n",
        "import numpy as np\n",
        "import matplotlib.pyplot as plt\n",
        "import pandas as pd\n",
        "import seaborn as sns\n",
        "from sklearn import linear_model\n",
        "from sklearn.model_selection import cross_val_score\n",
        "import geopy\n",
        "from geopy.distance import geodesic\n",
        "from sklearn.metrics import mean_squared_error\n",
        "import itertools\n",
        "\n",
        "from sklearn.model_selection import train_test_split\n",
        "\n",
        "\n",
        "from google.colab import drive"
      ]
    },
    {
      "cell_type": "markdown",
      "metadata": {
        "id": "FIuQ3l7f6seM"
      },
      "source": [
        "# Exploration\n"
      ]
    },
    {
      "cell_type": "markdown",
      "metadata": {
        "id": "ogeb5hxAacFc"
      },
      "source": [
        "First, we will create dataframes from Tucson Police Reported Crimes data and Neighborhood Income data."
      ]
    },
    {
      "cell_type": "code",
      "execution_count": 2,
      "metadata": {
        "colab": {
          "base_uri": "https://localhost:8080/",
          "height": 223
        },
        "id": "sNr1vEX_Jnpe",
        "outputId": "6f010d72-1cca-4ebf-c59e-e60ba5fbf109"
      },
      "outputs": [
        {
          "output_type": "stream",
          "name": "stdout",
          "text": [
            "Mounted at /content/drive\n"
          ]
        },
        {
          "output_type": "execute_result",
          "data": {
            "text/plain": [
              "   IncidentID            DateOccurred  Year    Month  Day TimeOccur Division  \\\n",
              "0  1800330010  2018/03/30 00:00:00+00  2018    March  Fri      2054  Midtown   \n",
              "1   807190154  2018/06/15 00:00:00+00  2018     June  Fri      0243    South   \n",
              "2  1801010138  2018/01/01 00:00:00+00  2018  January  Mon      0412  Midtown   \n",
              "3  1801010111  2018/01/01 00:00:00+00  2018  January  Mon      0324    South   \n",
              "4  1801010244  2018/01/01 00:00:00+00  2018  January  Mon      0950    South   \n",
              "\n",
              "   Ward  UCR            UCRDescription  Offense  \\\n",
              "0   6.0    5             05 - BURGLARY      501   \n",
              "1   1.0    1             01 - HOMICIDE      101   \n",
              "2   3.0    3              03 - ROBBERY      304   \n",
              "3   1.0    4  04 - ASSAULT, AGGRAVATED      413   \n",
              "4   5.0    6              06 - LARCENY      610   \n",
              "\n",
              "                            OffenseDescription        CallSource  ESRI_OID  \n",
              "0                             Burglary - Force               NaN         1  \n",
              "1                   Criminal Homicide - Murder               NaN         2  \n",
              "2                 Robbery - Convenience Stores  Call For Service         3  \n",
              "3  Aggravated Assault - Domestic Violence (DV)  Call For Service         4  \n",
              "4                          Larceny - All Other  Call For Service         5  "
            ],
            "text/html": [
              "\n",
              "  <div id=\"df-4962d429-c6a7-4bf1-87b9-f699ec88232c\" class=\"colab-df-container\">\n",
              "    <div>\n",
              "<style scoped>\n",
              "    .dataframe tbody tr th:only-of-type {\n",
              "        vertical-align: middle;\n",
              "    }\n",
              "\n",
              "    .dataframe tbody tr th {\n",
              "        vertical-align: top;\n",
              "    }\n",
              "\n",
              "    .dataframe thead th {\n",
              "        text-align: right;\n",
              "    }\n",
              "</style>\n",
              "<table border=\"1\" class=\"dataframe\">\n",
              "  <thead>\n",
              "    <tr style=\"text-align: right;\">\n",
              "      <th></th>\n",
              "      <th>IncidentID</th>\n",
              "      <th>DateOccurred</th>\n",
              "      <th>Year</th>\n",
              "      <th>Month</th>\n",
              "      <th>Day</th>\n",
              "      <th>TimeOccur</th>\n",
              "      <th>Division</th>\n",
              "      <th>Ward</th>\n",
              "      <th>UCR</th>\n",
              "      <th>UCRDescription</th>\n",
              "      <th>Offense</th>\n",
              "      <th>OffenseDescription</th>\n",
              "      <th>CallSource</th>\n",
              "      <th>ESRI_OID</th>\n",
              "    </tr>\n",
              "  </thead>\n",
              "  <tbody>\n",
              "    <tr>\n",
              "      <th>0</th>\n",
              "      <td>1800330010</td>\n",
              "      <td>2018/03/30 00:00:00+00</td>\n",
              "      <td>2018</td>\n",
              "      <td>March</td>\n",
              "      <td>Fri</td>\n",
              "      <td>2054</td>\n",
              "      <td>Midtown</td>\n",
              "      <td>6.0</td>\n",
              "      <td>5</td>\n",
              "      <td>05 - BURGLARY</td>\n",
              "      <td>501</td>\n",
              "      <td>Burglary - Force</td>\n",
              "      <td>NaN</td>\n",
              "      <td>1</td>\n",
              "    </tr>\n",
              "    <tr>\n",
              "      <th>1</th>\n",
              "      <td>807190154</td>\n",
              "      <td>2018/06/15 00:00:00+00</td>\n",
              "      <td>2018</td>\n",
              "      <td>June</td>\n",
              "      <td>Fri</td>\n",
              "      <td>0243</td>\n",
              "      <td>South</td>\n",
              "      <td>1.0</td>\n",
              "      <td>1</td>\n",
              "      <td>01 - HOMICIDE</td>\n",
              "      <td>101</td>\n",
              "      <td>Criminal Homicide - Murder</td>\n",
              "      <td>NaN</td>\n",
              "      <td>2</td>\n",
              "    </tr>\n",
              "    <tr>\n",
              "      <th>2</th>\n",
              "      <td>1801010138</td>\n",
              "      <td>2018/01/01 00:00:00+00</td>\n",
              "      <td>2018</td>\n",
              "      <td>January</td>\n",
              "      <td>Mon</td>\n",
              "      <td>0412</td>\n",
              "      <td>Midtown</td>\n",
              "      <td>3.0</td>\n",
              "      <td>3</td>\n",
              "      <td>03 - ROBBERY</td>\n",
              "      <td>304</td>\n",
              "      <td>Robbery - Convenience Stores</td>\n",
              "      <td>Call For Service</td>\n",
              "      <td>3</td>\n",
              "    </tr>\n",
              "    <tr>\n",
              "      <th>3</th>\n",
              "      <td>1801010111</td>\n",
              "      <td>2018/01/01 00:00:00+00</td>\n",
              "      <td>2018</td>\n",
              "      <td>January</td>\n",
              "      <td>Mon</td>\n",
              "      <td>0324</td>\n",
              "      <td>South</td>\n",
              "      <td>1.0</td>\n",
              "      <td>4</td>\n",
              "      <td>04 - ASSAULT, AGGRAVATED</td>\n",
              "      <td>413</td>\n",
              "      <td>Aggravated Assault - Domestic Violence (DV)</td>\n",
              "      <td>Call For Service</td>\n",
              "      <td>4</td>\n",
              "    </tr>\n",
              "    <tr>\n",
              "      <th>4</th>\n",
              "      <td>1801010244</td>\n",
              "      <td>2018/01/01 00:00:00+00</td>\n",
              "      <td>2018</td>\n",
              "      <td>January</td>\n",
              "      <td>Mon</td>\n",
              "      <td>0950</td>\n",
              "      <td>South</td>\n",
              "      <td>5.0</td>\n",
              "      <td>6</td>\n",
              "      <td>06 - LARCENY</td>\n",
              "      <td>610</td>\n",
              "      <td>Larceny - All Other</td>\n",
              "      <td>Call For Service</td>\n",
              "      <td>5</td>\n",
              "    </tr>\n",
              "  </tbody>\n",
              "</table>\n",
              "</div>\n",
              "    <div class=\"colab-df-buttons\">\n",
              "\n",
              "  <div class=\"colab-df-container\">\n",
              "    <button class=\"colab-df-convert\" onclick=\"convertToInteractive('df-4962d429-c6a7-4bf1-87b9-f699ec88232c')\"\n",
              "            title=\"Convert this dataframe to an interactive table.\"\n",
              "            style=\"display:none;\">\n",
              "\n",
              "  <svg xmlns=\"http://www.w3.org/2000/svg\" height=\"24px\" viewBox=\"0 -960 960 960\">\n",
              "    <path d=\"M120-120v-720h720v720H120Zm60-500h600v-160H180v160Zm220 220h160v-160H400v160Zm0 220h160v-160H400v160ZM180-400h160v-160H180v160Zm440 0h160v-160H620v160ZM180-180h160v-160H180v160Zm440 0h160v-160H620v160Z\"/>\n",
              "  </svg>\n",
              "    </button>\n",
              "\n",
              "  <style>\n",
              "    .colab-df-container {\n",
              "      display:flex;\n",
              "      gap: 12px;\n",
              "    }\n",
              "\n",
              "    .colab-df-convert {\n",
              "      background-color: #E8F0FE;\n",
              "      border: none;\n",
              "      border-radius: 50%;\n",
              "      cursor: pointer;\n",
              "      display: none;\n",
              "      fill: #1967D2;\n",
              "      height: 32px;\n",
              "      padding: 0 0 0 0;\n",
              "      width: 32px;\n",
              "    }\n",
              "\n",
              "    .colab-df-convert:hover {\n",
              "      background-color: #E2EBFA;\n",
              "      box-shadow: 0px 1px 2px rgba(60, 64, 67, 0.3), 0px 1px 3px 1px rgba(60, 64, 67, 0.15);\n",
              "      fill: #174EA6;\n",
              "    }\n",
              "\n",
              "    .colab-df-buttons div {\n",
              "      margin-bottom: 4px;\n",
              "    }\n",
              "\n",
              "    [theme=dark] .colab-df-convert {\n",
              "      background-color: #3B4455;\n",
              "      fill: #D2E3FC;\n",
              "    }\n",
              "\n",
              "    [theme=dark] .colab-df-convert:hover {\n",
              "      background-color: #434B5C;\n",
              "      box-shadow: 0px 1px 3px 1px rgba(0, 0, 0, 0.15);\n",
              "      filter: drop-shadow(0px 1px 2px rgba(0, 0, 0, 0.3));\n",
              "      fill: #FFFFFF;\n",
              "    }\n",
              "  </style>\n",
              "\n",
              "    <script>\n",
              "      const buttonEl =\n",
              "        document.querySelector('#df-4962d429-c6a7-4bf1-87b9-f699ec88232c button.colab-df-convert');\n",
              "      buttonEl.style.display =\n",
              "        google.colab.kernel.accessAllowed ? 'block' : 'none';\n",
              "\n",
              "      async function convertToInteractive(key) {\n",
              "        const element = document.querySelector('#df-4962d429-c6a7-4bf1-87b9-f699ec88232c');\n",
              "        const dataTable =\n",
              "          await google.colab.kernel.invokeFunction('convertToInteractive',\n",
              "                                                    [key], {});\n",
              "        if (!dataTable) return;\n",
              "\n",
              "        const docLinkHtml = 'Like what you see? Visit the ' +\n",
              "          '<a target=\"_blank\" href=https://colab.research.google.com/notebooks/data_table.ipynb>data table notebook</a>'\n",
              "          + ' to learn more about interactive tables.';\n",
              "        element.innerHTML = '';\n",
              "        dataTable['output_type'] = 'display_data';\n",
              "        await google.colab.output.renderOutput(dataTable, element);\n",
              "        const docLink = document.createElement('div');\n",
              "        docLink.innerHTML = docLinkHtml;\n",
              "        element.appendChild(docLink);\n",
              "      }\n",
              "    </script>\n",
              "  </div>\n",
              "\n",
              "\n",
              "<div id=\"df-2ba16820-cf44-4471-a7ae-6084db783e58\">\n",
              "  <button class=\"colab-df-quickchart\" onclick=\"quickchart('df-2ba16820-cf44-4471-a7ae-6084db783e58')\"\n",
              "            title=\"Suggest charts\"\n",
              "            style=\"display:none;\">\n",
              "\n",
              "<svg xmlns=\"http://www.w3.org/2000/svg\" height=\"24px\"viewBox=\"0 0 24 24\"\n",
              "     width=\"24px\">\n",
              "    <g>\n",
              "        <path d=\"M19 3H5c-1.1 0-2 .9-2 2v14c0 1.1.9 2 2 2h14c1.1 0 2-.9 2-2V5c0-1.1-.9-2-2-2zM9 17H7v-7h2v7zm4 0h-2V7h2v10zm4 0h-2v-4h2v4z\"/>\n",
              "    </g>\n",
              "</svg>\n",
              "  </button>\n",
              "\n",
              "<style>\n",
              "  .colab-df-quickchart {\n",
              "      --bg-color: #E8F0FE;\n",
              "      --fill-color: #1967D2;\n",
              "      --hover-bg-color: #E2EBFA;\n",
              "      --hover-fill-color: #174EA6;\n",
              "      --disabled-fill-color: #AAA;\n",
              "      --disabled-bg-color: #DDD;\n",
              "  }\n",
              "\n",
              "  [theme=dark] .colab-df-quickchart {\n",
              "      --bg-color: #3B4455;\n",
              "      --fill-color: #D2E3FC;\n",
              "      --hover-bg-color: #434B5C;\n",
              "      --hover-fill-color: #FFFFFF;\n",
              "      --disabled-bg-color: #3B4455;\n",
              "      --disabled-fill-color: #666;\n",
              "  }\n",
              "\n",
              "  .colab-df-quickchart {\n",
              "    background-color: var(--bg-color);\n",
              "    border: none;\n",
              "    border-radius: 50%;\n",
              "    cursor: pointer;\n",
              "    display: none;\n",
              "    fill: var(--fill-color);\n",
              "    height: 32px;\n",
              "    padding: 0;\n",
              "    width: 32px;\n",
              "  }\n",
              "\n",
              "  .colab-df-quickchart:hover {\n",
              "    background-color: var(--hover-bg-color);\n",
              "    box-shadow: 0 1px 2px rgba(60, 64, 67, 0.3), 0 1px 3px 1px rgba(60, 64, 67, 0.15);\n",
              "    fill: var(--button-hover-fill-color);\n",
              "  }\n",
              "\n",
              "  .colab-df-quickchart-complete:disabled,\n",
              "  .colab-df-quickchart-complete:disabled:hover {\n",
              "    background-color: var(--disabled-bg-color);\n",
              "    fill: var(--disabled-fill-color);\n",
              "    box-shadow: none;\n",
              "  }\n",
              "\n",
              "  .colab-df-spinner {\n",
              "    border: 2px solid var(--fill-color);\n",
              "    border-color: transparent;\n",
              "    border-bottom-color: var(--fill-color);\n",
              "    animation:\n",
              "      spin 1s steps(1) infinite;\n",
              "  }\n",
              "\n",
              "  @keyframes spin {\n",
              "    0% {\n",
              "      border-color: transparent;\n",
              "      border-bottom-color: var(--fill-color);\n",
              "      border-left-color: var(--fill-color);\n",
              "    }\n",
              "    20% {\n",
              "      border-color: transparent;\n",
              "      border-left-color: var(--fill-color);\n",
              "      border-top-color: var(--fill-color);\n",
              "    }\n",
              "    30% {\n",
              "      border-color: transparent;\n",
              "      border-left-color: var(--fill-color);\n",
              "      border-top-color: var(--fill-color);\n",
              "      border-right-color: var(--fill-color);\n",
              "    }\n",
              "    40% {\n",
              "      border-color: transparent;\n",
              "      border-right-color: var(--fill-color);\n",
              "      border-top-color: var(--fill-color);\n",
              "    }\n",
              "    60% {\n",
              "      border-color: transparent;\n",
              "      border-right-color: var(--fill-color);\n",
              "    }\n",
              "    80% {\n",
              "      border-color: transparent;\n",
              "      border-right-color: var(--fill-color);\n",
              "      border-bottom-color: var(--fill-color);\n",
              "    }\n",
              "    90% {\n",
              "      border-color: transparent;\n",
              "      border-bottom-color: var(--fill-color);\n",
              "    }\n",
              "  }\n",
              "</style>\n",
              "\n",
              "  <script>\n",
              "    async function quickchart(key) {\n",
              "      const quickchartButtonEl =\n",
              "        document.querySelector('#' + key + ' button');\n",
              "      quickchartButtonEl.disabled = true;  // To prevent multiple clicks.\n",
              "      quickchartButtonEl.classList.add('colab-df-spinner');\n",
              "      try {\n",
              "        const charts = await google.colab.kernel.invokeFunction(\n",
              "            'suggestCharts', [key], {});\n",
              "      } catch (error) {\n",
              "        console.error('Error during call to suggestCharts:', error);\n",
              "      }\n",
              "      quickchartButtonEl.classList.remove('colab-df-spinner');\n",
              "      quickchartButtonEl.classList.add('colab-df-quickchart-complete');\n",
              "    }\n",
              "    (() => {\n",
              "      let quickchartButtonEl =\n",
              "        document.querySelector('#df-2ba16820-cf44-4471-a7ae-6084db783e58 button');\n",
              "      quickchartButtonEl.style.display =\n",
              "        google.colab.kernel.accessAllowed ? 'block' : 'none';\n",
              "    })();\n",
              "  </script>\n",
              "</div>\n",
              "\n",
              "    </div>\n",
              "  </div>\n"
            ],
            "application/vnd.google.colaboratory.intrinsic+json": {
              "type": "dataframe",
              "variable_name": "crimes_df"
            }
          },
          "metadata": {},
          "execution_count": 2
        }
      ],
      "source": [
        "# Assumes crime dataset https://gisdata.tucsonaz.gov/datasets/tucson-police-reported-crimes/explore already in My Drive/datasets as crimes.csv\n",
        "drive.mount('/content/drive')\n",
        "crimes_df = pd.read_csv('/content/drive/My Drive/datasets/crimes.csv')\n",
        "crimes_df.head()"
      ]
    },
    {
      "cell_type": "code",
      "execution_count": 3,
      "metadata": {
        "colab": {
          "base_uri": "https://localhost:8080/",
          "height": 307
        },
        "id": "fw3GElFFUi45",
        "outputId": "53b16954-0e5e-49a8-a9e8-6a1151c85e79"
      },
      "outputs": [
        {
          "output_type": "execute_result",
          "data": {
            "text/plain": [
              "   OBJECTID              NAME  WARD     DATASOURCE  ID sourceCountry  \\\n",
              "0         1        A Mountain     1  NEIGHBORHOODS   0            US   \n",
              "1         2          Adelanto     3  NEIGHBORHOODS   1            US   \n",
              "2         3  Alvernon Heights     5  NEIGHBORHOODS   2            US   \n",
              "3         4             Amphi     3  NEIGHBORHOODS   3            US   \n",
              "4         5       Armory Park     6  NEIGHBORHOODS   4            US   \n",
              "\n",
              "   ENRICH_FID                  aggregationMethod  \\\n",
              "0           1  BlockApportionment:US.BlockGroups   \n",
              "1           2  BlockApportionment:US.BlockGroups   \n",
              "2           3  BlockApportionment:US.BlockGroups   \n",
              "3           4  BlockApportionment:US.BlockGroups   \n",
              "4           5  BlockApportionment:US.BlockGroups   \n",
              "\n",
              "   populationToPolygonSizeRating  apportionmentConfidence  ...  AGGDIA75CY  \\\n",
              "0                          2.191                    2.576  ...     1590160   \n",
              "1                          2.191                    2.576  ...      154598   \n",
              "2                          2.191                    2.576  ...      172634   \n",
              "3                          2.191                    2.576  ...     2760918   \n",
              "4                          2.191                    2.576  ...     3785750   \n",
              "\n",
              "   ID_1  sourceCountry_1  ENRICH_FID_1                aggregationMethod_1  \\\n",
              "0     0               US             1  BlockApportionment:US.BlockGroups   \n",
              "1     1               US             2  BlockApportionment:US.BlockGroups   \n",
              "2     2               US             3  BlockApportionment:US.BlockGroups   \n",
              "3     3               US             4  BlockApportionment:US.BlockGroups   \n",
              "4     4               US             5  BlockApportionment:US.BlockGroups   \n",
              "\n",
              "   populationToPolygonSizeRating_1  apportionmentConfidence_1  HasData_1  \\\n",
              "0                            2.191                      2.576          1   \n",
              "1                            2.191                      2.576          1   \n",
              "2                            2.191                      2.576          1   \n",
              "3                            2.191                      2.576          1   \n",
              "4                            2.191                      2.576          1   \n",
              "\n",
              "   TOTHH_CY  WLTHINDXCY  \n",
              "0      1103          32  \n",
              "1       117          28  \n",
              "2        99          26  \n",
              "3      3105          20  \n",
              "4      1223          48  \n",
              "\n",
              "[5 rows x 168 columns]"
            ],
            "text/html": [
              "\n",
              "  <div id=\"df-900201e1-7e5c-4164-95db-77df367dd056\" class=\"colab-df-container\">\n",
              "    <div>\n",
              "<style scoped>\n",
              "    .dataframe tbody tr th:only-of-type {\n",
              "        vertical-align: middle;\n",
              "    }\n",
              "\n",
              "    .dataframe tbody tr th {\n",
              "        vertical-align: top;\n",
              "    }\n",
              "\n",
              "    .dataframe thead th {\n",
              "        text-align: right;\n",
              "    }\n",
              "</style>\n",
              "<table border=\"1\" class=\"dataframe\">\n",
              "  <thead>\n",
              "    <tr style=\"text-align: right;\">\n",
              "      <th></th>\n",
              "      <th>OBJECTID</th>\n",
              "      <th>NAME</th>\n",
              "      <th>WARD</th>\n",
              "      <th>DATASOURCE</th>\n",
              "      <th>ID</th>\n",
              "      <th>sourceCountry</th>\n",
              "      <th>ENRICH_FID</th>\n",
              "      <th>aggregationMethod</th>\n",
              "      <th>populationToPolygonSizeRating</th>\n",
              "      <th>apportionmentConfidence</th>\n",
              "      <th>...</th>\n",
              "      <th>AGGDIA75CY</th>\n",
              "      <th>ID_1</th>\n",
              "      <th>sourceCountry_1</th>\n",
              "      <th>ENRICH_FID_1</th>\n",
              "      <th>aggregationMethod_1</th>\n",
              "      <th>populationToPolygonSizeRating_1</th>\n",
              "      <th>apportionmentConfidence_1</th>\n",
              "      <th>HasData_1</th>\n",
              "      <th>TOTHH_CY</th>\n",
              "      <th>WLTHINDXCY</th>\n",
              "    </tr>\n",
              "  </thead>\n",
              "  <tbody>\n",
              "    <tr>\n",
              "      <th>0</th>\n",
              "      <td>1</td>\n",
              "      <td>A Mountain</td>\n",
              "      <td>1</td>\n",
              "      <td>NEIGHBORHOODS</td>\n",
              "      <td>0</td>\n",
              "      <td>US</td>\n",
              "      <td>1</td>\n",
              "      <td>BlockApportionment:US.BlockGroups</td>\n",
              "      <td>2.191</td>\n",
              "      <td>2.576</td>\n",
              "      <td>...</td>\n",
              "      <td>1590160</td>\n",
              "      <td>0</td>\n",
              "      <td>US</td>\n",
              "      <td>1</td>\n",
              "      <td>BlockApportionment:US.BlockGroups</td>\n",
              "      <td>2.191</td>\n",
              "      <td>2.576</td>\n",
              "      <td>1</td>\n",
              "      <td>1103</td>\n",
              "      <td>32</td>\n",
              "    </tr>\n",
              "    <tr>\n",
              "      <th>1</th>\n",
              "      <td>2</td>\n",
              "      <td>Adelanto</td>\n",
              "      <td>3</td>\n",
              "      <td>NEIGHBORHOODS</td>\n",
              "      <td>1</td>\n",
              "      <td>US</td>\n",
              "      <td>2</td>\n",
              "      <td>BlockApportionment:US.BlockGroups</td>\n",
              "      <td>2.191</td>\n",
              "      <td>2.576</td>\n",
              "      <td>...</td>\n",
              "      <td>154598</td>\n",
              "      <td>1</td>\n",
              "      <td>US</td>\n",
              "      <td>2</td>\n",
              "      <td>BlockApportionment:US.BlockGroups</td>\n",
              "      <td>2.191</td>\n",
              "      <td>2.576</td>\n",
              "      <td>1</td>\n",
              "      <td>117</td>\n",
              "      <td>28</td>\n",
              "    </tr>\n",
              "    <tr>\n",
              "      <th>2</th>\n",
              "      <td>3</td>\n",
              "      <td>Alvernon Heights</td>\n",
              "      <td>5</td>\n",
              "      <td>NEIGHBORHOODS</td>\n",
              "      <td>2</td>\n",
              "      <td>US</td>\n",
              "      <td>3</td>\n",
              "      <td>BlockApportionment:US.BlockGroups</td>\n",
              "      <td>2.191</td>\n",
              "      <td>2.576</td>\n",
              "      <td>...</td>\n",
              "      <td>172634</td>\n",
              "      <td>2</td>\n",
              "      <td>US</td>\n",
              "      <td>3</td>\n",
              "      <td>BlockApportionment:US.BlockGroups</td>\n",
              "      <td>2.191</td>\n",
              "      <td>2.576</td>\n",
              "      <td>1</td>\n",
              "      <td>99</td>\n",
              "      <td>26</td>\n",
              "    </tr>\n",
              "    <tr>\n",
              "      <th>3</th>\n",
              "      <td>4</td>\n",
              "      <td>Amphi</td>\n",
              "      <td>3</td>\n",
              "      <td>NEIGHBORHOODS</td>\n",
              "      <td>3</td>\n",
              "      <td>US</td>\n",
              "      <td>4</td>\n",
              "      <td>BlockApportionment:US.BlockGroups</td>\n",
              "      <td>2.191</td>\n",
              "      <td>2.576</td>\n",
              "      <td>...</td>\n",
              "      <td>2760918</td>\n",
              "      <td>3</td>\n",
              "      <td>US</td>\n",
              "      <td>4</td>\n",
              "      <td>BlockApportionment:US.BlockGroups</td>\n",
              "      <td>2.191</td>\n",
              "      <td>2.576</td>\n",
              "      <td>1</td>\n",
              "      <td>3105</td>\n",
              "      <td>20</td>\n",
              "    </tr>\n",
              "    <tr>\n",
              "      <th>4</th>\n",
              "      <td>5</td>\n",
              "      <td>Armory Park</td>\n",
              "      <td>6</td>\n",
              "      <td>NEIGHBORHOODS</td>\n",
              "      <td>4</td>\n",
              "      <td>US</td>\n",
              "      <td>5</td>\n",
              "      <td>BlockApportionment:US.BlockGroups</td>\n",
              "      <td>2.191</td>\n",
              "      <td>2.576</td>\n",
              "      <td>...</td>\n",
              "      <td>3785750</td>\n",
              "      <td>4</td>\n",
              "      <td>US</td>\n",
              "      <td>5</td>\n",
              "      <td>BlockApportionment:US.BlockGroups</td>\n",
              "      <td>2.191</td>\n",
              "      <td>2.576</td>\n",
              "      <td>1</td>\n",
              "      <td>1223</td>\n",
              "      <td>48</td>\n",
              "    </tr>\n",
              "  </tbody>\n",
              "</table>\n",
              "<p>5 rows × 168 columns</p>\n",
              "</div>\n",
              "    <div class=\"colab-df-buttons\">\n",
              "\n",
              "  <div class=\"colab-df-container\">\n",
              "    <button class=\"colab-df-convert\" onclick=\"convertToInteractive('df-900201e1-7e5c-4164-95db-77df367dd056')\"\n",
              "            title=\"Convert this dataframe to an interactive table.\"\n",
              "            style=\"display:none;\">\n",
              "\n",
              "  <svg xmlns=\"http://www.w3.org/2000/svg\" height=\"24px\" viewBox=\"0 -960 960 960\">\n",
              "    <path d=\"M120-120v-720h720v720H120Zm60-500h600v-160H180v160Zm220 220h160v-160H400v160Zm0 220h160v-160H400v160ZM180-400h160v-160H180v160Zm440 0h160v-160H620v160ZM180-180h160v-160H180v160Zm440 0h160v-160H620v160Z\"/>\n",
              "  </svg>\n",
              "    </button>\n",
              "\n",
              "  <style>\n",
              "    .colab-df-container {\n",
              "      display:flex;\n",
              "      gap: 12px;\n",
              "    }\n",
              "\n",
              "    .colab-df-convert {\n",
              "      background-color: #E8F0FE;\n",
              "      border: none;\n",
              "      border-radius: 50%;\n",
              "      cursor: pointer;\n",
              "      display: none;\n",
              "      fill: #1967D2;\n",
              "      height: 32px;\n",
              "      padding: 0 0 0 0;\n",
              "      width: 32px;\n",
              "    }\n",
              "\n",
              "    .colab-df-convert:hover {\n",
              "      background-color: #E2EBFA;\n",
              "      box-shadow: 0px 1px 2px rgba(60, 64, 67, 0.3), 0px 1px 3px 1px rgba(60, 64, 67, 0.15);\n",
              "      fill: #174EA6;\n",
              "    }\n",
              "\n",
              "    .colab-df-buttons div {\n",
              "      margin-bottom: 4px;\n",
              "    }\n",
              "\n",
              "    [theme=dark] .colab-df-convert {\n",
              "      background-color: #3B4455;\n",
              "      fill: #D2E3FC;\n",
              "    }\n",
              "\n",
              "    [theme=dark] .colab-df-convert:hover {\n",
              "      background-color: #434B5C;\n",
              "      box-shadow: 0px 1px 3px 1px rgba(0, 0, 0, 0.15);\n",
              "      filter: drop-shadow(0px 1px 2px rgba(0, 0, 0, 0.3));\n",
              "      fill: #FFFFFF;\n",
              "    }\n",
              "  </style>\n",
              "\n",
              "    <script>\n",
              "      const buttonEl =\n",
              "        document.querySelector('#df-900201e1-7e5c-4164-95db-77df367dd056 button.colab-df-convert');\n",
              "      buttonEl.style.display =\n",
              "        google.colab.kernel.accessAllowed ? 'block' : 'none';\n",
              "\n",
              "      async function convertToInteractive(key) {\n",
              "        const element = document.querySelector('#df-900201e1-7e5c-4164-95db-77df367dd056');\n",
              "        const dataTable =\n",
              "          await google.colab.kernel.invokeFunction('convertToInteractive',\n",
              "                                                    [key], {});\n",
              "        if (!dataTable) return;\n",
              "\n",
              "        const docLinkHtml = 'Like what you see? Visit the ' +\n",
              "          '<a target=\"_blank\" href=https://colab.research.google.com/notebooks/data_table.ipynb>data table notebook</a>'\n",
              "          + ' to learn more about interactive tables.';\n",
              "        element.innerHTML = '';\n",
              "        dataTable['output_type'] = 'display_data';\n",
              "        await google.colab.output.renderOutput(dataTable, element);\n",
              "        const docLink = document.createElement('div');\n",
              "        docLink.innerHTML = docLinkHtml;\n",
              "        element.appendChild(docLink);\n",
              "      }\n",
              "    </script>\n",
              "  </div>\n",
              "\n",
              "\n",
              "<div id=\"df-eed5c523-8e6a-4c46-aa8a-3d8ee9e8c7e1\">\n",
              "  <button class=\"colab-df-quickchart\" onclick=\"quickchart('df-eed5c523-8e6a-4c46-aa8a-3d8ee9e8c7e1')\"\n",
              "            title=\"Suggest charts\"\n",
              "            style=\"display:none;\">\n",
              "\n",
              "<svg xmlns=\"http://www.w3.org/2000/svg\" height=\"24px\"viewBox=\"0 0 24 24\"\n",
              "     width=\"24px\">\n",
              "    <g>\n",
              "        <path d=\"M19 3H5c-1.1 0-2 .9-2 2v14c0 1.1.9 2 2 2h14c1.1 0 2-.9 2-2V5c0-1.1-.9-2-2-2zM9 17H7v-7h2v7zm4 0h-2V7h2v10zm4 0h-2v-4h2v4z\"/>\n",
              "    </g>\n",
              "</svg>\n",
              "  </button>\n",
              "\n",
              "<style>\n",
              "  .colab-df-quickchart {\n",
              "      --bg-color: #E8F0FE;\n",
              "      --fill-color: #1967D2;\n",
              "      --hover-bg-color: #E2EBFA;\n",
              "      --hover-fill-color: #174EA6;\n",
              "      --disabled-fill-color: #AAA;\n",
              "      --disabled-bg-color: #DDD;\n",
              "  }\n",
              "\n",
              "  [theme=dark] .colab-df-quickchart {\n",
              "      --bg-color: #3B4455;\n",
              "      --fill-color: #D2E3FC;\n",
              "      --hover-bg-color: #434B5C;\n",
              "      --hover-fill-color: #FFFFFF;\n",
              "      --disabled-bg-color: #3B4455;\n",
              "      --disabled-fill-color: #666;\n",
              "  }\n",
              "\n",
              "  .colab-df-quickchart {\n",
              "    background-color: var(--bg-color);\n",
              "    border: none;\n",
              "    border-radius: 50%;\n",
              "    cursor: pointer;\n",
              "    display: none;\n",
              "    fill: var(--fill-color);\n",
              "    height: 32px;\n",
              "    padding: 0;\n",
              "    width: 32px;\n",
              "  }\n",
              "\n",
              "  .colab-df-quickchart:hover {\n",
              "    background-color: var(--hover-bg-color);\n",
              "    box-shadow: 0 1px 2px rgba(60, 64, 67, 0.3), 0 1px 3px 1px rgba(60, 64, 67, 0.15);\n",
              "    fill: var(--button-hover-fill-color);\n",
              "  }\n",
              "\n",
              "  .colab-df-quickchart-complete:disabled,\n",
              "  .colab-df-quickchart-complete:disabled:hover {\n",
              "    background-color: var(--disabled-bg-color);\n",
              "    fill: var(--disabled-fill-color);\n",
              "    box-shadow: none;\n",
              "  }\n",
              "\n",
              "  .colab-df-spinner {\n",
              "    border: 2px solid var(--fill-color);\n",
              "    border-color: transparent;\n",
              "    border-bottom-color: var(--fill-color);\n",
              "    animation:\n",
              "      spin 1s steps(1) infinite;\n",
              "  }\n",
              "\n",
              "  @keyframes spin {\n",
              "    0% {\n",
              "      border-color: transparent;\n",
              "      border-bottom-color: var(--fill-color);\n",
              "      border-left-color: var(--fill-color);\n",
              "    }\n",
              "    20% {\n",
              "      border-color: transparent;\n",
              "      border-left-color: var(--fill-color);\n",
              "      border-top-color: var(--fill-color);\n",
              "    }\n",
              "    30% {\n",
              "      border-color: transparent;\n",
              "      border-left-color: var(--fill-color);\n",
              "      border-top-color: var(--fill-color);\n",
              "      border-right-color: var(--fill-color);\n",
              "    }\n",
              "    40% {\n",
              "      border-color: transparent;\n",
              "      border-right-color: var(--fill-color);\n",
              "      border-top-color: var(--fill-color);\n",
              "    }\n",
              "    60% {\n",
              "      border-color: transparent;\n",
              "      border-right-color: var(--fill-color);\n",
              "    }\n",
              "    80% {\n",
              "      border-color: transparent;\n",
              "      border-right-color: var(--fill-color);\n",
              "      border-bottom-color: var(--fill-color);\n",
              "    }\n",
              "    90% {\n",
              "      border-color: transparent;\n",
              "      border-bottom-color: var(--fill-color);\n",
              "    }\n",
              "  }\n",
              "</style>\n",
              "\n",
              "  <script>\n",
              "    async function quickchart(key) {\n",
              "      const quickchartButtonEl =\n",
              "        document.querySelector('#' + key + ' button');\n",
              "      quickchartButtonEl.disabled = true;  // To prevent multiple clicks.\n",
              "      quickchartButtonEl.classList.add('colab-df-spinner');\n",
              "      try {\n",
              "        const charts = await google.colab.kernel.invokeFunction(\n",
              "            'suggestCharts', [key], {});\n",
              "      } catch (error) {\n",
              "        console.error('Error during call to suggestCharts:', error);\n",
              "      }\n",
              "      quickchartButtonEl.classList.remove('colab-df-spinner');\n",
              "      quickchartButtonEl.classList.add('colab-df-quickchart-complete');\n",
              "    }\n",
              "    (() => {\n",
              "      let quickchartButtonEl =\n",
              "        document.querySelector('#df-eed5c523-8e6a-4c46-aa8a-3d8ee9e8c7e1 button');\n",
              "      quickchartButtonEl.style.display =\n",
              "        google.colab.kernel.accessAllowed ? 'block' : 'none';\n",
              "    })();\n",
              "  </script>\n",
              "</div>\n",
              "\n",
              "    </div>\n",
              "  </div>\n"
            ],
            "application/vnd.google.colaboratory.intrinsic+json": {
              "type": "dataframe",
              "variable_name": "income_df"
            }
          },
          "metadata": {},
          "execution_count": 3
        }
      ],
      "source": [
        "# Assumes income dataset https://gisdata.tucsonaz.gov/datasets/cotgis::neighborhood-income/explore?location=32.197487%2C-110.889177%2C9.46&showTable=true as income.csv\n",
        "income_df = pd.read_csv('/content/drive/My Drive/datasets/income.csv')\n",
        "\n",
        "# drop rows with no data\n",
        "income_df = income_df[income_df['HasData_1'] != 0]\n",
        "income_df.head()"
      ]
    },
    {
      "cell_type": "markdown",
      "metadata": {
        "id": "IcXn_6DciEZu"
      },
      "source": [
        "We will explore the number of crimes by ward using a bar plot, starting to think about the relationship between location and crime."
      ]
    },
    {
      "cell_type": "code",
      "execution_count": 4,
      "metadata": {
        "colab": {
          "base_uri": "https://localhost:8080/",
          "height": 449
        },
        "id": "y_B1kbu3heM_",
        "outputId": "a79ea6f1-9c79-4f94-93f2-53717c2eb4ab"
      },
      "outputs": [
        {
          "output_type": "display_data",
          "data": {
            "text/plain": [
              "<Figure size 640x480 with 1 Axes>"
            ],
            "image/png": "[encoded data removed]"
          },
          "metadata": {}
        }
      ],
      "source": [
        "# generate a bar plot for crime data vs ward number\n",
        "plt.bar(crimes_df['Ward'].value_counts().index, crimes_df['Ward'].value_counts())\n",
        "plt.rcParams['figure.figsize'] = [3, 3]\n",
        "\n",
        "plt.xlabel('Ward')\n",
        "plt.ylabel('Number of Crimes')\n",
        "\n",
        "plt.show()"
      ]
    },
    {
      "cell_type": "markdown",
      "metadata": {
        "id": "zGvFfCGv64Np"
      },
      "source": [
        "# Clean data for police incidents"
      ]
    },
    {
      "cell_type": "markdown",
      "metadata": {
        "id": "O4GCaMBHjp4Y"
      },
      "source": [
        "Since the crime dataframe gave limited amounts of data about each crime, we sought out new data, and found datasets for police incidents, which contains a column for the neighborhood in which the incident occurred. Now we will clean data about neighborhood populations."
      ]
    },
    {
      "cell_type": "code",
      "execution_count": 5,
      "metadata": {
        "id": "CWXty7vGjZ7m"
      },
      "outputs": [],
      "source": [
        "# Assumes population dataset https://gisdata.tucsonaz.gov/datasets/a4ed8b6bf0ad4515bfc43df83175e40f_0/explore?location=32.197880%2C-110.889177%2C10.33&showTable=true as populations.csv\n",
        "pop_df = pd.read_csv('/content/drive/My Drive/datasets/populations.csv')\n",
        "\n",
        "# drop rows with no data\n",
        "pop_df = pop_df[pop_df['HasData'] != 0]"
      ]
    },
    {
      "cell_type": "markdown",
      "metadata": {
        "id": "gENLb0_OrxyW"
      },
      "source": [
        "We will now clean data about police incidents, using separate datasets from years 2014 through 2023. We will create one large dataframe with all the incidents in order to have a larger dataset to better see relationships.  "
      ]
    },
    {
      "cell_type": "code",
      "execution_count": null,
      "metadata": {
        "id": "mzrBhM61qo7S"
      },
      "outputs": [],
      "source": [
        "# read police incident data for all years\n",
        "years = [2014, 2015, 2016, 2018, 2019, 2020, 2021, 2022, 2023]\n",
        "dfs = []\n",
        "crime_rate_data = []\n",
        "crime_rate_df = pd.DataFrame(columns=['NAME', '2014', '2015', '2016', '2018', '2019', 'AVG_CRIME_RATE'])\n",
        "\n",
        "for year in years:\n",
        "  fp = '/content/drive/My Drive/datasets/incidents_' + str(year) + '.csv'\n",
        "  year_df = pd.read_csv(fp, low_memory=False)\n",
        "\n",
        "  # drop rows where latitude/longitude is 0\n",
        "  year_df = year_df[year_df['LAT'] != 0]\n",
        "  year_df = year_df[year_df['LONG'] != 0]\n",
        "\n",
        "  # drop rows where latitude/longitude not in tucson\n",
        "  min_lat = 31.5\n",
        "  max_lat = 32.5\n",
        "  min_long = -111.3\n",
        "  max_long = -110.5\n",
        "  year_df = year_df[(year_df['LAT'] >= min_lat) & (year_df['LAT'] <= max_lat) & (year_df['LONG'] >= min_long) & (year_df['LONG'] <= max_long)]\n",
        "\n",
        "  # get yearly populations\n",
        "  if year == 2014:\n",
        "    pop_col = 'TSPOP14_CY'\n",
        "  elif year == 2015:\n",
        "    pop_col = 'TSPOP15_CY'\n",
        "  elif year == 2016:\n",
        "    pop_col = 'TSPOP16_CY'\n",
        "  elif year == 2018:\n",
        "    pop_col = 'TSPOP18_CY'\n",
        "  elif year  == 2019:\n",
        "    pop_col = 'TOTPOP_CY'\n",
        "\n",
        "  if year < 2020 and year != 2017 and pop_col in pop_df.columns:\n",
        "\n",
        "    # iterate through neighborhoods\n",
        "    for n_name in year_df['NHA_NAME'].unique():\n",
        "\n",
        "      # ignore nan neighborhoods\n",
        "      if pd.isna(n_name):\n",
        "        continue\n",
        "\n",
        "      # add neighborhood to crime_rate_df if not already there\n",
        "      if n_name not in crime_rate_df['NAME'].values:\n",
        "        crime_rate_data.append({'NAME': n_name})\n",
        "\n",
        "      # get number of incidents in neighborhood\n",
        "      num_incidents = len(year_df[year_df['NHA_NAME'] == n_name])\n",
        "\n",
        "      # Get population of neighborhood\n",
        "      filtered_pop = pop_df[pop_df['NAME'] == n_name]\n",
        "      if not filtered_pop.empty and pop_col in filtered_pop.columns:\n",
        "          yr_population = filtered_pop[pop_col].iloc[0]\n",
        "          crime_rate_yr = num_incidents / yr_population\n",
        "      else:\n",
        "          # set crime rate to na\n",
        "          crime_rate_yr = np.nan\n",
        "\n",
        "      # add crime rate to crime_rate_df in the year column\n",
        "      for entry in crime_rate_data:\n",
        "        if entry['NAME'] == n_name:\n",
        "          entry[str(year)] = crime_rate_yr\n",
        "\n",
        "  # drop unneeded columns to make the data easier to read\n",
        "  cols = ['INCI_ID', 'OFFENSE', 'WARD', 'NHA_NAME','LAT', 'LONG', 'Crime', 'CrimeType', 'CrimeCategory']\n",
        "  year_df = year_df[list(cols)]\n",
        "\n",
        "  dfs.append(year_df)\n",
        "\n",
        "\n",
        "# create crime_rate dataframe\n",
        "crime_rate_df = pd.DataFrame(crime_rate_data)\n",
        "\n",
        "# Calculate mean crime rate for years 2014 to 2019\n",
        "valid_years = ['2014', '2015', '2016', '2018', '2019']\n",
        "crime_rate_df['AVG_CRIME_RATE'] = crime_rate_df[valid_years].mean(axis=1, skipna=True)\n",
        "\n",
        "# combine all years into one dataframe\n",
        "df = pd.concat(dfs, ignore_index=True)\n"
      ]
    },
    {
      "cell_type": "markdown",
      "metadata": {
        "id": "CBRPWMp87Ibz"
      },
      "source": [
        "# Clean data for neighborhoods"
      ]
    },
    {
      "cell_type": "markdown",
      "metadata": {
        "id": "rr0tb9rD80Dr"
      },
      "source": [
        "We will now create a dataframe with relevant info about each neighborhood. Each row will represent a neighborhood, and columns will have data about population, crimes and crime rates, and eventually population demographics and location. As part of the preprocessing, we will create a small dataframe that is useful in calculating average crime rates by using crime count and population values from relevant years. This intermediate step is used to add the crime rate column to the neighborhoods dataframe."
      ]
    },
    {
      "cell_type": "code",
      "execution_count": null,
      "metadata": {
        "id": "f_ujGIrMjvXr"
      },
      "outputs": [],
      "source": [
        "# create a dataframe with only neighborhood names and populations from 2019 data\n",
        "neighborhoods_df = pop_df[['NAME', 'TOTPOP_CY']]\n",
        "\n",
        "# drop rows with total population = 0\n",
        "neighborhoods_df = neighborhoods_df[neighborhoods_df['TOTPOP_CY'] != 0]\n",
        "\n",
        "# rename columns\n",
        "neighborhoods_df = neighborhoods_df.rename(columns={'TOTPOP_CY': '2019_POP'})\n",
        "\n",
        "# drop rows with no neighborhood data from crime df\n",
        "crime_df = df[pd.notna(df['NHA_NAME'])]\n",
        "\n",
        "# drop row with no data from crime_rate_df\n",
        "crime_rate_df = crime_rate_df[pd.notna(crime_rate_df['NAME'])]\n",
        "\n",
        "# add total crime counts\n",
        "neighborhoods_df = neighborhoods_df.copy()\n",
        "for index, row in neighborhoods_df.iterrows():\n",
        "    neighborhood_name = row['NAME']\n",
        "    crime_count = len(crime_df[crime_df['NHA_NAME'] == neighborhood_name])\n",
        "    neighborhoods_df.at[index, 'CRIMES'] = crime_count\n",
        "\n",
        "# add crime rate from crime_rate_df\n",
        "neighborhoods_df = neighborhoods_df.copy()\n",
        "for index, row in neighborhoods_df.iterrows():\n",
        "    neighborhood_name = row['NAME']\n",
        "    crime_rate = crime_rate_df[crime_rate_df['NAME'] == neighborhood_name]['AVG_CRIME_RATE'].iloc[0]\n",
        "    neighborhoods_df.at[index, 'CRIME_RATE'] = crime_rate\n",
        "\n",
        "neighborhoods_df.head()\n"
      ]
    },
    {
      "cell_type": "markdown",
      "metadata": {
        "id": "KVRN5Oc2Z7Fo"
      },
      "source": [
        "Add per capita income data to neighborhoods dataframe from the income dataframe created earlier."
      ]
    },
    {
      "cell_type": "code",
      "execution_count": null,
      "metadata": {
        "id": "Yo5J15lkJF0E"
      },
      "outputs": [],
      "source": [
        "# function to get per capita income for a neighborhood\n",
        "def get_income(row):\n",
        "    income = income_df[(income_df['NAME'] == row['NAME'])]['PCI_CY']\n",
        "    return income.iloc[0] if not income.empty else np.nan\n",
        "\n",
        "# add income column to the neighborhoods dataframe\n",
        "neighborhoods_df = neighborhoods_df.copy()\n",
        "neighborhoods_df['INCOME'] = neighborhoods_df.apply(get_income, axis=1)\n",
        "\n",
        "neighborhoods_df.head()\n"
      ]
    },
    {
      "cell_type": "markdown",
      "metadata": {
        "id": "KMzNsNbO9FGC"
      },
      "source": [
        "Add employment data to neighborhoods dataframe using data from an employment dataset."
      ]
    },
    {
      "cell_type": "code",
      "execution_count": null,
      "metadata": {
        "id": "QW9YPxws9NJ9"
      },
      "outputs": [],
      "source": [
        "# Assumes employment data https://gisdata.tucsonaz.gov/datasets/ac0ce3fbf3f24312b170f3bff94f8956_0/explore?location=32.197880%2C-110.889177%2C10.33&showTable=true as employment.csv\n",
        "empl_df = pd.read_csv('/content/drive/My Drive/datasets/employment.csv')\n",
        "\n",
        "# drop rows with no data\n",
        "empl_df = empl_df[empl_df['HasData'] != 0]\n",
        "\n",
        "# function to get unemployment rate for a neighborhood\n",
        "def get_unempl(row):\n",
        "    unempl = empl_df[(empl_df['NAME'] == row['NAME'])]['UNEMPRT_CY']\n",
        "    return unempl.iloc[0] if not unempl.empty else np.nan\n",
        "\n",
        "# add unemployment column to the neighborhoods dataframe\n",
        "neighborhoods_df = neighborhoods_df.copy()\n",
        "neighborhoods_df['UNEMPL'] = neighborhoods_df.apply(get_unempl, axis=1)\n",
        "\n",
        "neighborhoods_df.head()\n"
      ]
    },
    {
      "cell_type": "markdown",
      "source": [
        "Add education data to the neighborhoods dataframe using a dataset with education statistics, including number of individuals with certain degrees. Our education ratio will be the ratio of the population that has a degree (either associates, bachelors, or graduate)."
      ],
      "metadata": {
        "id": "x2ISMWcS2GF8"
      }
    },
    {
      "cell_type": "code",
      "execution_count": null,
      "metadata": {
        "id": "D7AMoc6TpWcD"
      },
      "outputs": [],
      "source": [
        "# read in education dataset (https://gisdata.tucsonaz.gov/datasets/9978db16633f4d45ac8a6b31d82f95f7_0/explore?location=32.197738%2C-110.889177%2C10.45&showTable=true), from datasets/education.csv in drive\n",
        "edu_df = pd.read_csv('/content/drive/My Drive/datasets/education.csv')\n",
        "# drop rows with no data\n",
        "edu_df = edu_df[edu_df['HasData'] != 0]\n",
        "\n",
        "# add education column to the neighborhoods dataframe\n",
        "neighborhoods_df = neighborhoods_df.copy()\n",
        "\n",
        "# iterate over neighborhoods\n",
        "for n_name in neighborhoods_df['NAME']:\n",
        "\n",
        "  # drop row if not in edu_df\n",
        "  if n_name not in edu_df['NAME'].values:\n",
        "    neighborhoods_df = neighborhoods_df[neighborhoods_df['NAME'] != n_name]\n",
        "  else:\n",
        "    # sum assoc degree, bach degree, grad degree counts\n",
        "    n_row = edu_df[edu_df['NAME'] == n_name]\n",
        "    edu_count = n_row['ASSCDEG_CY'] + n_row['BACHDEG_CY'] + n_row['GRADDEG_CY']\n",
        "\n",
        "    neighborhoods_df.loc[neighborhoods_df['NAME'] == n_name, 'EDU_COUNT'] = edu_count\n",
        "\n",
        "    # get population\n",
        "    pop_count = neighborhoods_df[neighborhoods_df['NAME'] == n_name]['2019_POP'].iloc[0]\n",
        "\n",
        "    # add education percentage column\n",
        "    edu_ratio = edu_count / pop_count\n",
        "    neighborhoods_df.loc[neighborhoods_df['NAME'] == n_name, 'EDU_RATIO'] = edu_ratio\n",
        "\n",
        "neighborhoods_df.head()\n"
      ]
    },
    {
      "cell_type": "markdown",
      "metadata": {
        "id": "Vv0D1UCapUOm"
      },
      "source": [
        "Now that we've added some population demographics to the neighborhoods dataframe, we will look for some relevant results about location and its effect on crime. We will use a bar plot visualization to see the neighborhoods with the highest crime rates."
      ]
    },
    {
      "cell_type": "code",
      "execution_count": null,
      "metadata": {
        "id": "ylRMKMxexXQj"
      },
      "outputs": [],
      "source": [
        "# bar plot for 10 neighborhoods with highest crimes/person\n",
        "neighborhoods_df = neighborhoods_df.sort_values(by='CRIME_RATE', ascending=False)\n",
        "plt.bar(neighborhoods_df['NAME'].head(10), neighborhoods_df['CRIME_RATE'].head(10), color='orange')\n",
        "\n",
        "plt.xlabel('Neighborhood')\n",
        "plt.ylabel('Number of Crimes')\n",
        "plt.title('Top 10 Neighborhoods with Highest Crime')\n",
        "\n",
        "plt.rcParams['figure.figsize'] = [5, 9]\n",
        "plt.xticks(rotation=45)\n",
        "\n",
        "plt.show()"
      ]
    },
    {
      "cell_type": "markdown",
      "metadata": {
        "id": "yH4rfSH9wcEB"
      },
      "source": [
        "From the bar plot, we can see that downtown has a high crime rate. Based on this observation, we will add data about each incident's distance from the city center."
      ]
    },
    {
      "cell_type": "markdown",
      "metadata": {
        "id": "eTZO_sO87kby"
      },
      "source": [
        "# Investigate relationship between crime rate and distance from downtown"
      ]
    },
    {
      "cell_type": "code",
      "execution_count": null,
      "metadata": {
        "id": "KPnqVvLGEv96"
      },
      "outputs": [],
      "source": [
        "\n",
        "# constant values for coordinates of city center\n",
        "downtown_lat = 32.2226\n",
        "downtown_long = -110.9747\n",
        "downtown_coords = (downtown_lat, downtown_long)\n",
        "\n",
        "# calculate distance from downtown in miles\n",
        "def calculate_distance(row):\n",
        "    lat = row['LAT']\n",
        "    long = row['LONG']\n",
        "    if pd.isna(lat) or pd.isna(long) or lat == 0 or long == 0:\n",
        "        return np.nan\n",
        "    return geodesic((lat, long), downtown_coords).miles\n",
        "\n",
        "# add distance column to the cleaned crime dataframe\n",
        "df = df.copy()\n",
        "df['distance_from_dt'] = df.apply(calculate_distance, axis=1)\n",
        "\n",
        "df = df.dropna(subset=['distance_from_dt'])\n",
        "\n",
        "df.head()\n"
      ]
    },
    {
      "cell_type": "markdown",
      "metadata": {
        "id": "ok1vfuqK4oKO"
      },
      "source": [
        "Create visualization of crimes and distance from city center."
      ]
    },
    {
      "cell_type": "code",
      "execution_count": null,
      "metadata": {
        "id": "Vpmw6gEkFcju"
      },
      "outputs": [],
      "source": [
        "# create two side-by-side plots\n",
        "fig, axs = plt.subplots(1, 2, figsize=(12, 6))\n",
        "\n",
        "# histogram\n",
        "axs[0].hist(df['distance_from_dt'], bins=30, color='skyblue', edgecolor='navy', range=(0, 20))\n",
        "axs[0].set_xlabel('Distance from Downtown')\n",
        "axs[0].set_ylabel('Number of Crimes')\n",
        "axs[0].set_title('Crime Density vs Distance from Downtown')\n",
        "\n",
        "# density curve sns\n",
        "sns.kdeplot(data=df, x='distance_from_dt', ax=axs[1], color='navy')\n",
        "axs[1].set_xlim(0, 20)\n",
        "axs[1].set_xlabel('Distance from Downtown')\n",
        "axs[1].set_ylabel('Density')\n",
        "\n",
        "plt.show()"
      ]
    },
    {
      "cell_type": "code",
      "execution_count": null,
      "metadata": {
        "id": "Qolhyo9MLchr"
      },
      "outputs": [],
      "source": [
        "# function to get avg dist from downtown for a neighborhood\n",
        "def get_avg_dist(row):\n",
        "    avg_dist = df[(df['NHA_NAME'] == row['NAME'])]['distance_from_dt'].mean()\n",
        "    return avg_dist\n",
        "\n",
        "# add a column to neighborhoods df for avg dist from downtown\n",
        "neighborhoods_df = neighborhoods_df.copy()\n",
        "neighborhoods_df['AVG_DIST'] = neighborhoods_df.apply(get_avg_dist, axis=1)\n",
        "\n",
        "# drop downtown outlier\n",
        "dist_df = neighborhoods_df[neighborhoods_df['NAME'] != 'Downtown']\n",
        "\n",
        "# Create a scatterplot of crime rate vs distance from city center\n",
        "plt.scatter(dist_df['AVG_DIST'], dist_df['CRIME_RATE'], color='blue', alpha=0.4, s=75)\n",
        "plt.rcParams['figure.figsize'] = [5, 10]\n",
        "plt.ylabel('Crime Rate')\n",
        "plt.xlabel('Distance from Downtown')\n",
        "plt.title('Crime Rate vs Distance from Downtown')\n",
        "plt.show()\n"
      ]
    },
    {
      "cell_type": "markdown",
      "metadata": {
        "id": "m_ZvaM6Qlqf4"
      },
      "source": [
        "Map of crimes with latitude and longitude"
      ]
    },
    {
      "cell_type": "code",
      "execution_count": null,
      "metadata": {
        "id": "O2xq9EeqlvkE"
      },
      "outputs": [],
      "source": [
        "\n",
        "# plot crimes with latitude on x-axis, longitude on y-axis\n",
        "plt.scatter(df['LONG'], df['LAT'], color='black', alpha=0.25, s=1)\n",
        "plt.rcParams['figure.figsize'] = [12,12]\n",
        "plt.xlabel('Longitude')\n",
        "plt.ylabel('Latitude')\n",
        "plt.title('Crime Locations')\n",
        "\n",
        "# add point for downtown\n",
        "plt.scatter(downtown_long, downtown_lat, color='red', s=100)\n",
        "\n",
        "# add key\n",
        "plt.legend(['Crime', 'Downtown'])\n",
        "\n",
        "plt.show()"
      ]
    },
    {
      "cell_type": "markdown",
      "source": [
        "Now, we will add the relevant data about each neighborhood into our large crime dataframe containing all the incidents."
      ],
      "metadata": {
        "id": "FGcsCmmzlTxV"
      }
    },
    {
      "cell_type": "code",
      "source": [
        "# add column to df for neighborhood income\n",
        "df = df.copy()\n",
        "df['INCOME'] = df['NHA_NAME'].map(neighborhoods_df.set_index('NAME')['INCOME'])\n",
        "\n",
        "# add column for education ratio\n",
        "df = df.copy()\n",
        "df['EDU_RATIO'] = df['NHA_NAME'].map(neighborhoods_df.set_index('NAME')['EDU_RATIO'])\n",
        "\n",
        "# add column for unemployment\n",
        "df = df.copy()\n",
        "df['UNEMPL'] = df['NHA_NAME'].map(neighborhoods_df.set_index('NAME')['UNEMPL'])\n",
        "\n",
        "# rename avg distance\n",
        "df = df.rename(columns={'distance_from_dt': 'AVG_DIST'})\n",
        "\n"
      ],
      "metadata": {
        "id": "pSLql6LalWsJ"
      },
      "execution_count": null,
      "outputs": []
    },
    {
      "cell_type": "markdown",
      "metadata": {
        "id": "qZbuDvCDLLYd"
      },
      "source": [
        "# Explore changes over time"
      ]
    },
    {
      "cell_type": "markdown",
      "source": [
        "We will look at how crime rates have changed over the years for which we have data in each neighborhood and look for patterns using time series graphs."
      ],
      "metadata": {
        "id": "gSBZhgL93SDs"
      }
    },
    {
      "cell_type": "code",
      "execution_count": null,
      "metadata": {
        "id": "nIRLypWLQDCf"
      },
      "outputs": [],
      "source": [
        "\n",
        "plt.figure(figsize=(6, 4))\n",
        "normalized_crime_rate_df = crime_rate_df.copy()\n",
        "\n",
        "# drop na values in columns 1 thru 6\n",
        "normalized_crime_rate_df = normalized_crime_rate_df.dropna(subset=normalized_crime_rate_df.columns[1:6])\n",
        "\n",
        "# normalize data with z-score\n",
        "for col in normalized_crime_rate_df.columns[1:6]:\n",
        "    year_mean = normalized_crime_rate_df[col].mean()\n",
        "    year_std = normalized_crime_rate_df[col].std()\n",
        "    normalized_crime_rate_df[col] = (normalized_crime_rate_df[col] - year_mean) / year_std\n",
        "\n",
        "# plot data, dropping outlier\n",
        "for n_name in normalized_crime_rate_df['NAME']:\n",
        "    if n_name != \"Downtown\":\n",
        "      cr_data = normalized_crime_rate_df[normalized_crime_rate_df['NAME'] == n_name]\n",
        "      plt.plot(cr_data.columns[1:6], cr_data.iloc[0, 1:6], label=n_name)\n",
        "\n",
        "# set plot details\n",
        "plt.title('Crime Rates Over Time by Neighborhood', fontsize=16)\n",
        "plt.xlabel('Year', fontsize=14)\n",
        "plt.ylabel('Crime Rate', fontsize=14)\n",
        "plt.grid(True)\n",
        "plt.yticks(fontsize=12)\n",
        "\n",
        "# show plot\n",
        "plt.tight_layout()\n",
        "plt.show()\n"
      ]
    },
    {
      "cell_type": "markdown",
      "metadata": {
        "id": "o-Mv3Z-RXCM2"
      },
      "source": [
        "We used normalized data to make the graph more readable, but it's still a little cluttered. So we will create a graph with a random subset of 10 neighborhoods to better visualize time series changes. Re-run to see with different subset."
      ]
    },
    {
      "cell_type": "code",
      "execution_count": null,
      "metadata": {
        "id": "QB8jhhZTXLjD"
      },
      "outputs": [],
      "source": [
        "# randomly select a subset of 10 neighborhoods\n",
        "n_sample = normalized_crime_rate_df.sample(n=10)\n",
        "\n",
        "# plot data\n",
        "plt.figure(figsize=(6, 4))\n",
        "for n_name in n_sample['NAME']:\n",
        "    if n_name != \"Downtown\":\n",
        "      cr_data = normalized_crime_rate_df[normalized_crime_rate_df['NAME'] == n_name]\n",
        "      plt.plot(cr_data.columns[1:6], cr_data.iloc[0, 1:6], label=n_name)\n",
        "\n",
        "# set plot details\n",
        "plt.title('Crime Rates Over Time by Neighborhood', fontsize=16)\n",
        "plt.xlabel('Year', fontsize=14)\n",
        "plt.ylabel('Crime Rate', fontsize=14)\n",
        "plt.grid(True)\n",
        "plt.yticks(fontsize=12)\n",
        "plt.legend(loc='upper left', bbox_to_anchor=(1, 1))\n",
        "\n",
        "# show plot\n",
        "plt.tight_layout()\n",
        "plt.show()\n"
      ]
    },
    {
      "cell_type": "markdown",
      "metadata": {
        "id": "q9Ag5fAEaKJB"
      },
      "source": [
        "Plotting this data with different subsets does not show a distinct increase or decrease in crime rates from 2014 to 2019. We see a general decrease in crime rates from 2018 to 2019."
      ]
    },
    {
      "cell_type": "markdown",
      "metadata": {
        "id": "mOBXhxBMI2lo"
      },
      "source": [
        "# Partitioning the data"
      ]
    },
    {
      "cell_type": "markdown",
      "metadata": {
        "id": "gTN5W3DCLV73"
      },
      "source": [
        "Split into training and test sets, using a 70-30 split."
      ]
    },
    {
      "cell_type": "code",
      "execution_count": null,
      "metadata": {
        "id": "WvehwpmSJbUG"
      },
      "outputs": [],
      "source": [
        "np.random.seed(99)\n",
        "train_size = int(0.7 * len(neighborhoods_df))\n",
        "\n",
        "# randomly select training and test data indicies\n",
        "train_indices = np.random.choice(neighborhoods_df.index, size=train_size, replace=False)\n",
        "test_indices = np.setdiff1d(neighborhoods_df.index, train_indices)\n",
        "\n",
        "# create training and test dataframes\n",
        "train_df = neighborhoods_df.loc[train_indices]\n",
        "test_df = neighborhoods_df.loc[test_indices]\n"
      ]
    },
    {
      "cell_type": "code",
      "source": [
        "# partition df\n",
        "np.random.seed(9)\n",
        "train_size = int(0.7 * len(df))\n",
        "\n",
        "# randomly select training and test data indicies\n",
        "train_indices = np.random.choice(df.index, size=train_size, replace=False)\n",
        "test_indices = np.setdiff1d(df.index, train_indices)\n",
        "\n",
        "# create training and test dataframes\n",
        "train_crime_df = df.loc[train_indices]\n",
        "test_crime_df = df.loc[test_indices]"
      ],
      "metadata": {
        "id": "sfvcSplKMwj1"
      },
      "execution_count": null,
      "outputs": []
    },
    {
      "cell_type": "markdown",
      "metadata": {
        "id": "nN0ZeZn3bKH_"
      },
      "source": [
        "# Scatterplots for each feature\n",
        "\n",
        "\n",
        "\n"
      ]
    },
    {
      "cell_type": "markdown",
      "source": [
        "In order to get an idea of how each feature we identified is correlated to crime rate (if at all), we will use scatterplots for each individual feature against crime rate."
      ],
      "metadata": {
        "id": "e6WV4GrW3zbj"
      }
    },
    {
      "cell_type": "code",
      "execution_count": null,
      "metadata": {
        "id": "DXJJn-qNnc32"
      },
      "outputs": [],
      "source": [
        "# 4 scatterplots for crime rate vs features\n",
        "plt.figure(figsize=(12, 3))\n",
        "\n",
        "# first plot crime vs income\n",
        "plt.subplot(1, 4, 1)\n",
        "plt.scatter(train_df['INCOME'], train_df['CRIME_RATE'], color='blue', alpha=0.4, s=75)\n",
        "plt.xlabel('Income per Capita')\n",
        "plt.ylabel('Crime Rate')\n",
        "\n",
        "# crime vs unemployment\n",
        "plt.subplot(1, 4, 2)\n",
        "plt.scatter(train_df['UNEMPL'], train_df['CRIME_RATE'], color='green', alpha=0.4, s=75)\n",
        "plt.xlabel('Unemployment Rate')\n",
        "plt.ylabel('Crime Rate')\n",
        "\n",
        "# crime vs distance from downtown\n",
        "plt.subplot(1, 4, 3)\n",
        "plt.scatter(train_df['AVG_DIST'], train_df['CRIME_RATE'], color='red', alpha=0.4, s=75)\n",
        "plt.xlabel('Distance from Downtown')\n",
        "plt.ylabel('Crime Rate')\n",
        "\n",
        "# crime vs education\n",
        "plt.subplot(1, 4, 4)\n",
        "plt.scatter(train_df['EDU_RATIO'], train_df['CRIME_RATE'], color='orange', alpha=0.4, s=75)\n",
        "plt.xlabel('Education Ratio')\n",
        "plt.ylabel('Crime Rate')\n",
        "\n",
        "plt.tight_layout()\n",
        "plt.show()"
      ]
    },
    {
      "cell_type": "markdown",
      "source": [
        "Based on these scatterplots, it is clear that neighborhoods with crime rates > 0.5 are outliers."
      ],
      "metadata": {
        "id": "1248bKUBNnbR"
      }
    },
    {
      "cell_type": "code",
      "source": [
        "# drop rows with crime rate > 0.5\n",
        "train_df = train_df[train_df['CRIME_RATE'] < 0.5]\n",
        "test_df = test_df[test_df['CRIME_RATE'] < 0.5]"
      ],
      "metadata": {
        "id": "xF1Xihz-Nu6-"
      },
      "execution_count": null,
      "outputs": []
    },
    {
      "cell_type": "markdown",
      "metadata": {
        "id": "JcGK1KtQ5KGH"
      },
      "source": [
        "# Training Linear and Polynomial Models"
      ]
    },
    {
      "cell_type": "markdown",
      "metadata": {
        "id": "0RpRVu4ebOi4"
      },
      "source": [
        "First, we will train a linear regression model with independent variable income per capita and dependent variable crime rate."
      ]
    },
    {
      "cell_type": "code",
      "execution_count": null,
      "metadata": {
        "id": "f7i2IO_WbN7R"
      },
      "outputs": [],
      "source": [
        "# shuffle dataset\n",
        "train_shuffled = train_df.sample(frac=1, random_state=9).reset_index(drop=True)\n",
        "\n",
        "# drop outliers that are noise\n",
        "train_shuffled = train_shuffled[train_shuffled['INCOME'] > 0]\n",
        "train_shuffled = train_shuffled[train_shuffled['INCOME'] < 70000]\n",
        "\n",
        "# create training data\n",
        "Y_train = train_shuffled.copy()\n",
        "Y_train = Y_train['CRIME_RATE'].values.reshape(-1,1)\n",
        "X_train = train_shuffled.copy()\n",
        "X_train = X_train['INCOME'].values.reshape(-1,1)\n",
        "\n",
        "# train linear regression model\n",
        "lr = linear_model.LinearRegression()\n",
        "lr.fit(X_train, Y_train)\n",
        "\n",
        "# compute R-squared score\n",
        "score = lr.score(X_train, Y_train)\n",
        "\n",
        "# plot data\n",
        "plt.scatter(X_train, Y_train, label='Training Data')\n",
        "x_dense = np.arange(X_train.min(), X_train.max(), 0.01).reshape(-1, 1)\n",
        "y_dense = lr.predict(x_dense)\n",
        "plt.plot(x_dense, y_dense, color='red', label='Regression Line')\n",
        "plt.xlabel('Income per Capita')\n",
        "plt.ylabel('Crime Rate')\n",
        "plt.title('Linear Regression for Crime Rate based on Income')\n",
        "plt.legend()\n",
        "plt.show()\n",
        "\n",
        "# Report score\n",
        "print(\"R-squared score is\", score)\n"
      ]
    },
    {
      "cell_type": "markdown",
      "metadata": {
        "id": "yfPGeqMlsEU5"
      },
      "source": [
        "We will try using a non-linear model next, by using x^2 data."
      ]
    },
    {
      "cell_type": "code",
      "execution_count": null,
      "metadata": {
        "id": "YqKVmfVDsDqN"
      },
      "outputs": [],
      "source": [
        "train_shuffled['INCOME2'] = train_shuffled['INCOME'] ** 2\n",
        "X_train_2 = train_shuffled[['INCOME', 'INCOME2']]\n",
        "Y_train = train_shuffled['CRIME_RATE']\n",
        "\n",
        "lr_2 = linear_model.LinearRegression()\n",
        "lr_2.fit(X_train_2, Y_train)\n",
        "\n",
        "score_2 = lr_2.score(X_train_2, Y_train)\n",
        "\n",
        "print(\"R-squared score is\", score_2)\n"
      ]
    },
    {
      "cell_type": "markdown",
      "metadata": {
        "id": "8MnF3J_jeSBF"
      },
      "source": [
        "This improved the R-squared score, which tells us that a linear model wasn't the best for this data. Now, we will try using multiple features.\n",
        "\n",
        "\n"
      ]
    },
    {
      "cell_type": "code",
      "source": [
        "def findsubsets(S,k):\n",
        "    return set(itertools.combinations(S, k))"
      ],
      "metadata": {
        "id": "hsrUHUcNWWWx"
      },
      "execution_count": null,
      "outputs": []
    },
    {
      "cell_type": "code",
      "execution_count": null,
      "metadata": {
        "id": "HWsHt3TYebnS"
      },
      "outputs": [],
      "source": [
        "features = ['INCOME', 'UNEMPL', 'AVG_DIST', 'EDU_RATIO']\n",
        "\n",
        "# find the best subset\n",
        "best_score = None\n",
        "best_features_lin = None\n",
        "\n",
        "for k in range(1, len(features) + 1):\n",
        "    for subset in findsubsets(features, k):\n",
        "        X_train = train_shuffled[list(subset)].values\n",
        "        Y_train = train_shuffled['CRIME_RATE'].values\n",
        "\n",
        "        lr = linear_model.LinearRegression()\n",
        "        lr.fit(X_train, Y_train)\n",
        "\n",
        "        score = lr.score(X_train, Y_train)\n",
        "\n",
        "        if best_score is None or score > best_score:\n",
        "            best_score = score\n",
        "            best_features_lin = list(subset)\n",
        "\n",
        "print(\"Best R-squared score is\", best_score, \"with features\", best_features_lin)"
      ]
    },
    {
      "cell_type": "markdown",
      "source": [
        "Now, we will do the same with polynomial regression."
      ],
      "metadata": {
        "id": "NS39_0E-XMwR"
      }
    },
    {
      "cell_type": "code",
      "execution_count": null,
      "metadata": {
        "id": "cA-aE_KJgVBt"
      },
      "outputs": [],
      "source": [
        "train_shuffled['INCOME2'] = train_shuffled['INCOME'] ** 2\n",
        "train_shuffled['UNEMPL2'] = train_shuffled['UNEMPL'] ** 2\n",
        "train_shuffled['AVG_DIST2'] = train_shuffled['AVG_DIST'] ** 2\n",
        "train_shuffled['EDU_RATIO2'] = train_shuffled['EDU_RATIO'] ** 2\n",
        "\n",
        "features = ['INCOME', 'INCOME2', 'UNEMPL', 'UNEMPL2', 'AVG_DIST', 'AVG_DIST2', 'EDU_RATIO', 'EDU_RATIO2']\n",
        "X_train_2 = train_shuffled[features]\n",
        "Y_train = train_shuffled['CRIME_RATE']\n",
        "\n",
        "# find the best subset\n",
        "best_score = None\n",
        "best_features_poly = None\n",
        "\n",
        "for k in range(1, len(features) + 1):\n",
        "    for subset in findsubsets(features, k):\n",
        "        X_train = train_shuffled[list(subset)].values\n",
        "        Y_train = train_shuffled['CRIME_RATE'].values\n",
        "\n",
        "        lr = linear_model.LinearRegression()\n",
        "        lr.fit(X_train, Y_train)\n",
        "\n",
        "        score = lr.score(X_train, Y_train)\n",
        "\n",
        "        if best_score is None or score > best_score:\n",
        "            best_score = score\n",
        "            best_features_poly = list(subset)\n",
        "\n",
        "\n",
        "print(\"best R-squared score is\", best_score, \"with features\", best_features_poly)\n"
      ]
    },
    {
      "cell_type": "markdown",
      "source": [
        "Since the r-squared scores were all fairly low for the models above, we will use regularization to try to avoid overfitting."
      ],
      "metadata": {
        "id": "rMSoVQuKSwA7"
      }
    },
    {
      "cell_type": "markdown",
      "metadata": {
        "id": "jnO0RuED-Zvk"
      },
      "source": [
        "# Ridge\n"
      ]
    },
    {
      "cell_type": "markdown",
      "source": [
        "Train a Ridge Regression model for the data."
      ],
      "metadata": {
        "id": "ObnEOAXy4UK3"
      }
    },
    {
      "cell_type": "code",
      "execution_count": null,
      "metadata": {
        "id": "DA4wviu5-d9U"
      },
      "outputs": [],
      "source": [
        "# use best feature subset from linear regression\n",
        "X_train = train_shuffled[best_features_lin]\n",
        "Y_train = train_shuffled['CRIME_RATE']\n",
        "\n",
        "# Generate alpha values\n",
        "alpha_vals = np.logspace(-1, 3, 50)\n",
        "\n",
        "# Track best score and corresponding alpha\n",
        "best_score = None\n",
        "best_alpha_ridge = None\n",
        "\n",
        "avg_scores = []\n",
        "stds = []\n",
        "\n",
        "# Perform 20-fold cv of Ridge regression model\n",
        "for alpha in alpha_vals:\n",
        "  model = linear_model.Ridge(alpha=alpha)\n",
        "  scores = cross_val_score(model, X_train, Y_train, cv=20, scoring='r2')\n",
        "\n",
        "  # add mean score and std to list\n",
        "  avg_score = scores.mean()\n",
        "  avg_scores.append(avg_score)\n",
        "  std = scores.std()\n",
        "  stds.append(std)\n",
        "\n",
        "  # update best score and alpha\n",
        "  if best_score is None or scores.max() > best_score:\n",
        "    best_score = scores.max()\n",
        "    best_alpha_ridge = alpha\n",
        "\n",
        "# Print results\n",
        "print(\"Best R2 score is\", best_score, \"with alpha =\", best_alpha_ridge)"
      ]
    },
    {
      "cell_type": "markdown",
      "source": [
        "# Lasso"
      ],
      "metadata": {
        "id": "D2-jF3x6S6a1"
      }
    },
    {
      "cell_type": "markdown",
      "source": [
        "Train a Lasso Regression model for the data."
      ],
      "metadata": {
        "id": "HjmgNVP84Vjq"
      }
    },
    {
      "cell_type": "code",
      "source": [
        "# Perform 20-fold cv for Lasso\n",
        "model = linear_model.LassoLarsCV(cv=20)\n",
        "model.fit(X_train, Y_train)\n",
        "\n",
        "# Get MSE and alpha lists\n",
        "mse_path = model.mse_path_\n",
        "alphas = model.cv_alphas_\n",
        "\n",
        "# Compute mean and standard error\n",
        "mean_mse = mse_path.mean(axis=1)\n",
        "\n",
        "# Report best alpha value and corresponding average MSE\n",
        "best_alpha_lasso = model.alpha_\n",
        "best_mse = mean_mse[alphas.tolist().index(best_alpha_lasso)]\n",
        "print(\"Best alpha value is\", best_alpha_lasso, \"with mean MSE =\", best_mse)"
      ],
      "metadata": {
        "id": "DQ_ZOaHrS7FG"
      },
      "execution_count": null,
      "outputs": []
    },
    {
      "cell_type": "markdown",
      "metadata": {
        "id": "j0VlEQkkDRVo"
      },
      "source": [
        "# Evaluate models\n"
      ]
    },
    {
      "cell_type": "markdown",
      "source": [
        "Evaluate the linear regression model that seemed to be the best fit on the training data."
      ],
      "metadata": {
        "id": "LVLjegc-4ah8"
      }
    },
    {
      "cell_type": "code",
      "execution_count": null,
      "metadata": {
        "id": "eV7RQ4LnDV4R"
      },
      "outputs": [],
      "source": [
        "# shuffle test data\n",
        "test_shuffled = test_df.sample(frac=1, random_state=9).reset_index(drop=True)\n",
        "\n",
        "test_shuffled = test_shuffled[test_shuffled['INCOME'] > 0]\n",
        "test_shuffled = test_shuffled[test_shuffled['INCOME'] < 70000]\n",
        "\n",
        "# evaluate best linear regression model\n",
        "X_test = test_shuffled[best_features_lin].values\n",
        "Y_test = test_shuffled['CRIME_RATE'].values\n",
        "\n",
        "X_train = train_shuffled[best_features_lin].values\n",
        "Y_train = train_shuffled['CRIME_RATE'].values\n",
        "\n",
        "# train model\n",
        "lr = linear_model.LinearRegression()\n",
        "lr.fit(X_train, Y_train)\n",
        "\n",
        "# predictions on test data\n",
        "Y_pred = lr.predict(X_test)\n",
        "\n",
        "# calculate MSE\n",
        "mse = mean_squared_error(Y_test, Y_pred)\n",
        "\n",
        "# calculate R-squared\n",
        "r2 = lr.score(X_test, Y_test)\n",
        "\n",
        "# report MSE and R-squared\n",
        "print(\"Mean Squared Error:\", mse)\n",
        "print(\"R-squared =\", r2)\n"
      ]
    },
    {
      "cell_type": "markdown",
      "source": [
        "Evaluate the best polynomial regression model."
      ],
      "metadata": {
        "id": "dfFDsp3p4go4"
      }
    },
    {
      "cell_type": "code",
      "source": [
        "# add squares of feature values to test data\n",
        "test_shuffled['INCOME2'] = test_shuffled['INCOME'] ** 2\n",
        "test_shuffled['UNEMPL2'] = test_shuffled['UNEMPL'] ** 2\n",
        "test_shuffled['AVG_DIST2'] = test_shuffled['AVG_DIST'] ** 2\n",
        "test_shuffled['EDU_RATIO2'] = test_shuffled['EDU_RATIO'] ** 2\n",
        "\n",
        "# evaluate best polynomial regression model\n",
        "X_test = test_shuffled[best_features_poly].values\n",
        "Y_test = test_shuffled['CRIME_RATE'].values\n",
        "\n",
        "X_train = train_shuffled[best_features_poly].values\n",
        "Y_train = train_shuffled['CRIME_RATE'].values\n",
        "\n",
        "# train model\n",
        "lr = linear_model.LinearRegression()\n",
        "lr.fit(X_train, Y_train)\n",
        "\n",
        "# predictions on test data\n",
        "Y_pred = lr.predict(X_test)\n",
        "\n",
        "# calculate MSE\n",
        "mse = mean_squared_error(Y_test, Y_pred)\n",
        "\n",
        "# calculate R-squared\n",
        "r2 = lr.score(X_test, Y_test)\n",
        "\n",
        "# report MSE and R-squared\n",
        "print(\"Mean Squared Error:\", mse)\n",
        "print(\"R-squared =\", r2)\n"
      ],
      "metadata": {
        "id": "EcpCBaAFZicB"
      },
      "execution_count": null,
      "outputs": []
    },
    {
      "cell_type": "markdown",
      "source": [
        "It is interesting to not here that the linear and polynomial regression models had very similar results when being evaluated on the test data.\n",
        "\n",
        "Next, we will evaluate our Ridge Regression models, using the best alpha."
      ],
      "metadata": {
        "id": "wMjYXs8L4km6"
      }
    },
    {
      "cell_type": "code",
      "execution_count": null,
      "metadata": {
        "id": "mIrvyl8DItXw"
      },
      "outputs": [],
      "source": [
        "# evaluate ridge model\n",
        "X_test = test_shuffled[best_features_lin].values\n",
        "Y_test = test_shuffled['CRIME_RATE'].values\n",
        "\n",
        "X_train = train_shuffled[best_features_lin].values\n",
        "Y_train = train_shuffled['CRIME_RATE'].values\n",
        "\n",
        "# train model\n",
        "ridge = linear_model.Ridge(alpha=best_alpha_ridge)\n",
        "ridge.fit(X_train, Y_train)\n",
        "\n",
        "# predictions on test data\n",
        "Y_pred = ridge.predict(X_test)\n",
        "\n",
        "# calculate MSE\n",
        "mse = mean_squared_error(Y_test, Y_pred)\n",
        "\n",
        "# calculate R-squared\n",
        "r2 = ridge.score(X_test, Y_test)\n",
        "\n",
        "# report MSE and R-squared\n",
        "print(\"Mean Squared Error:\", mse)\n",
        "print(\"R-squared =\", r2)\n"
      ]
    },
    {
      "cell_type": "markdown",
      "source": [
        "As a visualization, we will graph the residuals of the Ridge Regression model using a histogram. We will see that it appears to be a normal distribution."
      ],
      "metadata": {
        "id": "iPDMUZY74zgy"
      }
    },
    {
      "cell_type": "code",
      "source": [
        "# histogram of residuals for ridge regression model\n",
        "plt.figure(figsize=(10, 6))\n",
        "residuals = Y_test - Y_pred\n",
        "\n",
        "plt.hist(residuals, bins=20, color='green', alpha=0.7)\n",
        "plt.xlabel(\"Residuals\")\n",
        "plt.ylabel(\"Frequency\")\n",
        "plt.title(\"Histogram of Residuals\")\n",
        "plt.grid(True)\n",
        "plt.show()"
      ],
      "metadata": {
        "id": "5JgrLTPXcafK"
      },
      "execution_count": null,
      "outputs": []
    },
    {
      "cell_type": "markdown",
      "source": [
        "Finally, we will evaluate the Lasso Regression model."
      ],
      "metadata": {
        "id": "Gro4-j8S49qf"
      }
    },
    {
      "cell_type": "code",
      "source": [
        "# evaluate lasso model\n",
        "X_test = test_shuffled[best_features_lin].values\n",
        "Y_test = test_shuffled['CRIME_RATE'].values\n",
        "\n",
        "X_train = train_shuffled[best_features_lin].values\n",
        "Y_train = train_shuffled['CRIME_RATE'].values\n",
        "\n",
        "# train model\n",
        "lasso = linear_model.Lasso(alpha=best_alpha_lasso)\n",
        "lasso.fit(X_train, Y_train)\n",
        "\n",
        "# predictions on test data\n",
        "Y_pred = lasso.predict(X_test)\n",
        "\n",
        "# calculate MSE\n",
        "mse = mean_squared_error(Y_test, Y_pred)\n",
        "\n",
        "# calculate R-squared\n",
        "r2 = lasso.score(X_test, Y_test)\n",
        "\n",
        "# report MSE and R-squared\n",
        "print(\"Mean Squared Error:\", mse)\n",
        "print(\"R-squared =\", r2)\n"
      ],
      "metadata": {
        "id": "NKt8DgrHcQ5g"
      },
      "execution_count": null,
      "outputs": []
    }
  ],
  "metadata": {
    "colab": {
      "collapsed_sections": [
        "FIuQ3l7f6seM",
        "CBRPWMp87Ibz",
        "qZbuDvCDLLYd",
        "nN0ZeZn3bKH_"
      ],
      "provenance": []
    },
    "kernelspec": {
      "display_name": "Python 3",
      "name": "python3"
    },
    "language_info": {
      "name": "python"
    }
  },
  "nbformat": 4,
  "nbformat_minor": 0
}